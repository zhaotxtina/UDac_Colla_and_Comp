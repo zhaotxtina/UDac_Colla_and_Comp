{
 "cells": [
  {
   "cell_type": "markdown",
   "metadata": {},
   "source": [
    "# Collaboration and Competition\n",
    "\n",
    "---\n",
    "\n",
    "You are welcome to use this coding environment to train your agent for the project.  Follow the instructions below to get started!\n",
    "\n",
    "### 1. Start the Environment\n",
    "\n",
    "Run the next code cell to install a few packages.  This line will take a few minutes to run!"
   ]
  },
  {
   "cell_type": "code",
   "execution_count": 2,
   "metadata": {},
   "outputs": [
    {
     "name": "stdout",
     "output_type": "stream",
     "text": [
      "\u001b[31mtensorflow 1.7.1 has requirement numpy>=1.13.3, but you'll have numpy 1.12.1 which is incompatible.\u001b[0m\r\n",
      "\u001b[31mipython 6.5.0 has requirement prompt-toolkit<2.0.0,>=1.0.15, but you'll have prompt-toolkit 3.0.4 which is incompatible.\u001b[0m\r\n"
     ]
    }
   ],
   "source": [
    "!pip -q install ./python"
   ]
  },
  {
   "cell_type": "markdown",
   "metadata": {},
   "source": [
    "The environment is already saved in the Workspace and can be accessed at the file path provided below. "
   ]
  },
  {
   "cell_type": "code",
   "execution_count": 3,
   "metadata": {},
   "outputs": [
    {
     "name": "stderr",
     "output_type": "stream",
     "text": [
      "INFO:unityagents:\n",
      "'Academy' started successfully!\n",
      "Unity Academy name: Academy\n",
      "        Number of Brains: 1\n",
      "        Number of External Brains : 1\n",
      "        Lesson number : 0\n",
      "        Reset Parameters :\n",
      "\t\t\n",
      "Unity brain name: TennisBrain\n",
      "        Number of Visual Observations (per agent): 0\n",
      "        Vector Observation space type: continuous\n",
      "        Vector Observation space size (per agent): 8\n",
      "        Number of stacked Vector Observation: 3\n",
      "        Vector Action space type: continuous\n",
      "        Vector Action space size (per agent): 2\n",
      "        Vector Action descriptions: , \n"
     ]
    }
   ],
   "source": [
    "from unityagents import UnityEnvironment\n",
    "import numpy as np\n",
    "\n",
    "env = UnityEnvironment(file_name=\"/data/Tennis_Linux_NoVis/Tennis\")"
   ]
  },
  {
   "cell_type": "markdown",
   "metadata": {},
   "source": [
    "Environments contain **_brains_** which are responsible for deciding the actions of their associated agents. Here we check for the first brain available, and set it as the default brain we will be controlling from Python."
   ]
  },
  {
   "cell_type": "code",
   "execution_count": 4,
   "metadata": {},
   "outputs": [],
   "source": [
    "# get the default brain\n",
    "brain_name = env.brain_names[0]\n",
    "brain = env.brains[brain_name]"
   ]
  },
  {
   "cell_type": "markdown",
   "metadata": {},
   "source": [
    "### 2. Examine the State and Action Spaces\n",
    "\n",
    "Run the code cell below to print some information about the environment."
   ]
  },
  {
   "cell_type": "code",
   "execution_count": 5,
   "metadata": {},
   "outputs": [
    {
     "name": "stdout",
     "output_type": "stream",
     "text": [
      "Number of agents: 2\n",
      "Size of each action: 2\n",
      "There are 2 agents. Each observes a state with length: 24\n",
      "The state for the first agent looks like: [ 0.          0.          0.          0.          0.          0.          0.\n",
      "  0.          0.          0.          0.          0.          0.          0.\n",
      "  0.          0.         -6.65278625 -1.5        -0.          0.\n",
      "  6.83172083  6.         -0.          0.        ]\n"
     ]
    }
   ],
   "source": [
    "# reset the environment\n",
    "env_info = env.reset(train_mode=True)[brain_name]\n",
    "\n",
    "# number of agents \n",
    "num_agents = len(env_info.agents)\n",
    "print('Number of agents:', num_agents)\n",
    "\n",
    "# size of each action\n",
    "action_size = brain.vector_action_space_size\n",
    "print('Size of each action:', action_size)\n",
    "\n",
    "# examine the state space \n",
    "states = env_info.vector_observations\n",
    "state_size = states.shape[1]\n",
    "print('There are {} agents. Each observes a state with length: {}'.format(states.shape[0], state_size))\n",
    "print('The state for the first agent looks like:', states[0])"
   ]
  },
  {
   "cell_type": "markdown",
   "metadata": {},
   "source": [
    "### 3. Take Random Actions in the Environment\n",
    "\n",
    "In the next code cell, you will learn how to use the Python API to control the agent and receive feedback from the environment.\n",
    "\n",
    "Note that **in this coding environment, you will not be able to watch the agents while they are training**, and you should set `train_mode=True` to restart the environment."
   ]
  },
  {
   "cell_type": "code",
   "execution_count": 6,
   "metadata": {},
   "outputs": [
    {
     "name": "stdout",
     "output_type": "stream",
     "text": [
      "Total score (averaged over agents) this episode: -0.004999999888241291\n",
      "Total score (averaged over agents) this episode: -0.004999999888241291\n",
      "Total score (averaged over agents) this episode: -0.004999999888241291\n",
      "Total score (averaged over agents) this episode: -0.004999999888241291\n",
      "Total score (averaged over agents) this episode: -0.004999999888241291\n"
     ]
    }
   ],
   "source": [
    "for i in range(5):                                         # play game for 5 episodes\n",
    "    env_info = env.reset(train_mode=False)[brain_name]     # reset the environment    \n",
    "    states = env_info.vector_observations                  # get the current state (for each agent)\n",
    "    scores = np.zeros(num_agents)                          # initialize the score (for each agent)\n",
    "    while True:\n",
    "        actions = np.random.randn(num_agents, action_size) # select an action (for each agent)\n",
    "        actions = np.clip(actions, -1, 1)                  # all actions between -1 and 1\n",
    "        env_info = env.step(actions)[brain_name]           # send all actions to tne environment\n",
    "        next_states = env_info.vector_observations         # get next state (for each agent)\n",
    "        rewards = env_info.rewards                         # get reward (for each agent)\n",
    "        dones = env_info.local_done                        # see if episode finished\n",
    "        scores += env_info.rewards                         # update the score (for each agent)\n",
    "        states = next_states                               # roll over states to next time step\n",
    "        if np.any(dones):                                  # exit loop if episode finished\n",
    "            break\n",
    "    print('Total score (averaged over agents) this episode: {}'.format(np.mean(scores)))"
   ]
  },
  {
   "cell_type": "markdown",
   "metadata": {},
   "source": [
    "When finished, you can close the environment."
   ]
  },
  {
   "cell_type": "markdown",
   "metadata": {},
   "source": [
    "### 4. It's Your Turn!\n",
    "\n",
    "Now it's your turn to train your own agent to solve the environment!  A few **important notes**:\n",
    "- When training the environment, set `train_mode=True`, so that the line for resetting the environment looks like the following:\n",
    "```python\n",
    "env_info = env.reset(train_mode=True)[brain_name]\n",
    "```\n",
    "- To structure your work, you're welcome to work directly in this Jupyter notebook, or you might like to start over with a new file!  You can see the list of files in the workspace by clicking on **_Jupyter_** in the top left corner of the notebook.\n",
    "- In this coding environment, you will not be able to watch the agents while they are training.  However, **_after training the agents_**, you can download the saved model weights to watch the agents on your own machine! "
   ]
  },
  {
   "cell_type": "code",
   "execution_count": 7,
   "metadata": {},
   "outputs": [],
   "source": [
    "from maddpg import MADDPGAgent\n",
    "from collections import deque\n",
    "import time\n",
    "import torch\n",
    "import matplotlib.pyplot as plt"
   ]
  },
  {
   "cell_type": "code",
   "execution_count": 12,
   "metadata": {},
   "outputs": [],
   "source": [
    "def maddpg(n_episodes=10000, max_t=2000, print_every=100):\n",
    "    \"\"\"maddpg Algorithm.\n",
    "        n_episodes (int): maximum number of training episodes\n",
    "        max_t (int): maximum number of timesteps per episode\n",
    "        print_every (int): frequency of printing information throughout iteration \"\"\"\n",
    "    scores = []                          # list to store the scores (averaged over all agents) estimated from each episode of training\n",
    "    scores_window = deque(maxlen=print_every)    # last 100 averaged (over all agents) scores\n",
    "    scores_mean = []                     # list to store the avg score (averaged over all agents) for 100 consecutive episodes\n",
    "    \n",
    "    for i_episode in range(1, n_episodes+1):\n",
    "        env_info = env.reset(train_mode=True)[brain_name]          # reset the environment\n",
    "        # set initial value of score as 0\n",
    "        scores_list = np.zeros(num_agents)     # list to store the scores of each agent for very episode\n",
    "        states = env_info.vector_observations     # get current\n",
    "        agent.reset()\n",
    "       \n",
    "        for t_step in range(max_t):\n",
    "            actions = agent.act(states)\n",
    "            env_info = env.step(actions)[brain_name]\n",
    "            next_states = env_info.vector_observations    # get the next states \n",
    "            rewards = env_info.rewards     # get the rewards\n",
    "            dones = env_info.local_done\n",
    "            \n",
    "            agent.step(states, actions, rewards, next_states, dones)\n",
    "            states = next_states\n",
    "            \n",
    "            # appending each agent immediate reward \n",
    "            scores_list += rewards\n",
    "            \n",
    "            # check if reach the end of episode\n",
    "            if np.any(dones):\n",
    "                break\n",
    "        \n",
    "        score_for_this_episode = np.max(scores_list) # taking the max of scores of all agents for this episode\n",
    "        scores_window.append(score_for_this_episode)    # save most recent score\n",
    "        \n",
    "        # calculate the avg score (over 100 consecutive episodes); this is our final score\n",
    "        final_score = np.mean(scores_window)               \n",
    "        # appeding the episode score to scores list\n",
    "        scores.append(score_for_this_episode)                        # save most recent score\n",
    "    \n",
    "        print (\"\\rEpisode {:}\\t Average Score {:.2f}\".format(i_episode, final_score), end=\"\")\n",
    "        \n",
    "        if i_episode % 100 == 0:\n",
    "            print (\"\\rEpsiode {:}\\t Average Score {:.2f}\".format(i_episode, final_score))\n",
    "            torch.save(agent.actor_local.state_dict(), 'checkpoint_actor1.pth')\n",
    "            torch.save(agent.critic_local.state_dict(), 'checkpoint_critic1.pth')\n",
    "            \n",
    "        if i_episode >= 100:\n",
    "            scores_mean.append(final_score)                                        # appending final score\n",
    "            \n",
    "        if final_score >= 1.0:    #  solved\n",
    "            print (\"\\nEnvironment solved in {:d} episodes!\\tAverage Score: {:2f}\".format(i_episode-100, final_score))\n",
    "            \n",
    "            torch.save(agent.actor_local.state_dict(), \"checkpoint_actor1.pth\")\n",
    "            torch.save(agent.critic_local.state_dict(), \"checkpoint_critic1.pth\")\n",
    "            break\n",
    "            \n",
    "    return scores, scores_mean, agent"
   ]
  },
  {
   "cell_type": "code",
   "execution_count": 9,
   "metadata": {},
   "outputs": [
    {
     "name": "stdout",
     "output_type": "stream",
     "text": [
      "Epsiode 100\t Average Score 0.00\n",
      "Epsiode 200\t Average Score 0.02\n",
      "Epsiode 300\t Average Score 0.02\n",
      "Epsiode 400\t Average Score 0.00\n",
      "Epsiode 500\t Average Score 0.00\n",
      "Epsiode 600\t Average Score 0.00\n",
      "Epsiode 700\t Average Score 0.00\n",
      "Epsiode 800\t Average Score 0.00\n",
      "Epsiode 900\t Average Score 0.00\n",
      "Epsiode 1000\t Average Score 0.00\n",
      "Epsiode 1100\t Average Score 0.01\n",
      "Epsiode 1200\t Average Score 0.07\n",
      "Epsiode 1300\t Average Score 0.02\n",
      "Epsiode 1400\t Average Score 0.01\n",
      "Epsiode 1500\t Average Score 0.07\n",
      "Epsiode 1600\t Average Score 0.16\n",
      "Epsiode 1700\t Average Score 0.23\n",
      "Episode 1773\t Average Score 0.50\n",
      "Environment solved in 1673 episodes!\tAverage Score: 0.501900\n",
      "\n",
      "Total Training time = 17.0 min\n"
     ]
    }
   ],
   "source": [
    "start_time = time.time()\n",
    "\n",
    "agent = MADDPGAgent(state_size=state_size, action_size=action_size, seed=10)\n",
    "\n",
    "scores,avgs,agent1 = maddpg(n_episodes = 5000)\n",
    "\n",
    "print(\"\\nTotal Training time = {:.1f} min\".format((time.time()-start_time)/60))\n"
   ]
  },
  {
   "cell_type": "code",
   "execution_count": 11,
   "metadata": {},
   "outputs": [
    {
     "data": {
      "image/png": "[encoded data removed]",
      "text/plain": [
       "<matplotlib.figure.Figure at 0x7f836cda5908>"
      ]
     },
     "metadata": {
      "needs_background": "light"
     },
     "output_type": "display_data"
    }
   ],
   "source": [
    "# plot the scores\n",
    "fig = plt.figure()\n",
    "plt.plot(np.arange(len(scores)), scores,label='Test1')\n",
    "plt.plot(np.arange(len(avgs)), avgs, c='r', label='averaged score')\n",
    "plt.ylabel('Score')\n",
    "plt.xlabel('Episode #')\n",
    "plt.show()"
   ]
  },
  {
   "cell_type": "code",
   "execution_count": 9,
   "metadata": {},
   "outputs": [
    {
     "name": "stdout",
     "output_type": "stream",
     "text": [
      "Epsiode 100\t Average Score 0.01\n",
      "Epsiode 200\t Average Score 0.01\n",
      "Epsiode 300\t Average Score 0.00\n",
      "Epsiode 400\t Average Score 0.00\n",
      "Epsiode 500\t Average Score 0.00\n",
      "Epsiode 600\t Average Score 0.00\n",
      "Epsiode 700\t Average Score 0.00\n",
      "Epsiode 800\t Average Score 0.00\n",
      "Epsiode 900\t Average Score 0.00\n",
      "Epsiode 1000\t Average Score 0.00\n",
      "Epsiode 1100\t Average Score 0.00\n",
      "Epsiode 1200\t Average Score 0.03\n",
      "Epsiode 1300\t Average Score 0.01\n",
      "Epsiode 1400\t Average Score 0.00\n",
      "Epsiode 1500\t Average Score 0.06\n",
      "Epsiode 1600\t Average Score 0.02\n",
      "Epsiode 1700\t Average Score 0.02\n",
      "Epsiode 1800\t Average Score 0.12\n",
      "Epsiode 1900\t Average Score 0.11\n",
      "Epsiode 2000\t Average Score 0.11\n",
      "Epsiode 2100\t Average Score 0.11\n",
      "Epsiode 2200\t Average Score 0.17\n",
      "Epsiode 2300\t Average Score 0.48\n",
      "Episode 2316\t Average Score 0.51\n",
      "Environment solved in 2216 episodes!\tAverage Score: 0.507300\n"
     ]
    }
   ],
   "source": [
    "# another try\n",
    "\n",
    "agent = MADDPGAgent(state_size=state_size, action_size=action_size, seed=0)\n",
    "scores,avgs,agent1 = maddpg(n_episodes = 5000)"
   ]
  },
  {
   "cell_type": "code",
   "execution_count": 18,
   "metadata": {
    "scrolled": true
   },
   "outputs": [
    {
     "data": {
      "image/png": "[encoded data removed]",
      "text/plain": [
       "<matplotlib.figure.Figure at 0x7f71a4081048>"
      ]
     },
     "metadata": {
      "needs_background": "light"
     },
     "output_type": "display_data"
    }
   ],
   "source": [
    "# plot the scores\n",
    "fig = plt.figure()\n",
    "plt.plot(np.arange(len(scores)), scores,label='Test1')\n",
    "plt.plot(np.arange(len(avgs)), avgs, c='r', label='averaged score')\n",
    "plt.ylabel('Score')\n",
    "plt.xlabel('Episode #')\n",
    "plt.show()"
   ]
  },
  {
   "cell_type": "code",
   "execution_count": null,
   "metadata": {},
   "outputs": [],
   "source": [
    "#env.close()"
   ]
  }
 ],
 "metadata": {
  "kernelspec": {
   "display_name": "Python 3",
   "language": "python",
   "name": "python3"
  },
  "language_info": {
   "codemirror_mode": {
    "name": "ipython",
    "version": 3
   },
   "file_extension": ".py",
   "mimetype": "text/x-python",
   "name": "python",
   "nbconvert_exporter": "python",
   "pygments_lexer": "ipython3",
   "version": "3.6.9"
  }
 },
 "nbformat": 4,
 "nbformat_minor": 2
}
